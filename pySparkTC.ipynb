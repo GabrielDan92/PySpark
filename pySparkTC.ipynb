{
  "nbformat": 4,
  "nbformat_minor": 0,
  "metadata": {
    "colab": {
      "name": "Neanderthal.ipynb",
      "provenance": [],
      "collapsed_sections": [],
      "authorship_tag": "ABX9TyNgqdCMfAer6yLX52PmeQk3",
      "include_colab_link": true
    },
    "kernelspec": {
      "name": "python3",
      "display_name": "Python 3"
    },
    "language_info": {
      "name": "python"
    },
    "accelerator": "GPU"
  },
  "cells": [
    {
      "cell_type": "markdown",
      "metadata": {
        "id": "view-in-github",
        "colab_type": "text"
      },
      "source": [
        "<a href=\"https://colab.research.google.com/github/GabrielDan92/PySpark/blob/main/pySparkTC.ipynb\" target=\"_parent\"><img src=\"https://colab.research.google.com/assets/colab-badge.svg\" alt=\"Open In Colab\"/></a>"
      ]
    },
    {
      "cell_type": "code",
      "metadata": {
        "id": "yi_m_a6qjneG"
      },
      "source": [
        "!apt-get install openjdk-8-jdk-headless -qq > /dev/null\n",
        "!wget -q https://archive.apache.org//dist/spark/spark-3.1.2/spark-3.1.2-bin-hadoop3.2.tgz\n",
        "!tar xf spark-3.1.2-bin-hadoop3.2.tgz\n",
        "!pip install -q findspark\n",
        "import os\n",
        "os.environ[\"JAVA_HOME\"] = \"/usr/lib/jvm/java-8-openjdk-amd64\"\n",
        "os.environ[\"SPARK_HOME\"] = \"/content/spark-3.1.2-bin-hadoop3.2\"\n",
        "import findspark\n",
        "findspark.init()"
      ],
      "execution_count": 3,
      "outputs": []
    },
    {
      "cell_type": "code",
      "metadata": {
        "id": "vKHq7QKhk47E"
      },
      "source": [
        "from pyspark.sql import SparkSession\n",
        "from pyspark.sql.functions import row_number,lit\n",
        "from pyspark.sql.window import Window\n",
        "spark = SparkSession.builder \\\n",
        "    .master(\"local[*]\") \\\n",
        "    .appName(\"Learning_Spark\") \\\n",
        "    .getOrCreate()"
      ],
      "execution_count": 4,
      "outputs": []
    },
    {
      "cell_type": "markdown",
      "metadata": {
        "id": "AfenQFEJBIbZ"
      },
      "source": [
        "***\n",
        "**(!) optional:** import the tables from local files instead of creating them in pyspark"
      ]
    },
    {
      "cell_type": "code",
      "metadata": {
        "id": "wxz80w5olD_f"
      },
      "source": [
        "# from google.colab import files\n",
        "# files.upload()\n",
        "# data = spark.read.csv('trips.csv',inferSchema=True, header=True)\n",
        "# data2 = spark.read.csv('stations.csv',inferSchema=True, header=True)\n",
        "\n",
        "# # add the row number column and move it to the left of the imported tables\n",
        "# w = Window().orderBy(lit('A'))\n",
        "# data = data.withColumn(\"row_num\", row_number().over(w))\n",
        "# data2 = data2.withColumn(\"row_num\", row_number().over(w))\n",
        "# data.select('row_num', 'origin', 'destination', 'internal_bus_station_ids', 'triptimes').show()\n",
        "# data2.select('row_num', 'internal_bus_station_id', 'public_bus_station_id').show()"
      ],
      "execution_count": null,
      "outputs": []
    },
    {
      "cell_type": "markdown",
      "metadata": {
        "id": "V_nAmOQxBVoX"
      },
      "source": [
        "***"
      ]
    },
    {
      "cell_type": "code",
      "metadata": {
        "id": "UiwK2UKz75L9"
      },
      "source": [
        "stations = [(1, 0, \"BAutogara\"), \\\n",
        "            (2, 1, \"BVAutogara\"), \\\n",
        "            (3, 2, \"SBAutogara\"), \\\n",
        "            (4, 3, \"CJAutogara\"), \\\n",
        "            (5, 4, \"MMAutogara\"), \\\n",
        "            (6, 5, \"ISAutogara\"), \\\n",
        "            (7, 6, \"CTAutogara\"), \\\n",
        "            (8, 7, \"TMAutogara\"), \\\n",
        "            (9, 8, \"BCAutogara\"), \\\n",
        "            (10, 9, \"MSAutogara\") \\\n",
        "            ]\n",
        "\n",
        "stationsColumns = [\"row_num\", \"internal_bus_station_id\", \"public_bus_station\"]\n",
        "stationsDF = spark.createDataFrame(data=stations, schema=stationsColumns)"
      ],
      "execution_count": null,
      "outputs": []
    },
    {
      "cell_type": "code",
      "metadata": {
        "id": "r0qGT2Jv95tA"
      },
      "source": [
        "from datetime import datetime\n",
        "\n",
        "trips = [(1, \"B\", \"MM\", [0,2,4], [datetime(2020, 3, 1, 10, 10, 00), datetime(2020, 3, 1, 12, 20, 10), datetime(2020, 3, 1, 15, 10, 10)]), \\\n",
        "        (2, \"BV\", \"IS\", [1,8,5], [datetime(2020, 3, 1, 10, 10, 00), datetime(2020, 3, 1, 12, 20, 10), datetime(2020, 3, 1, 15, 10, 10)]), \\\n",
        "        (3, \"TM\", \"CT\", [7,2,6], [datetime(2020, 4, 1, 10, 10, 00), datetime(2020, 4, 1, 12, 20, 10), datetime(2020, 4, 1, 15, 10, 10)]), \\\n",
        "        (4, \"CJ\", \"BC\", [3,9,8], [datetime(2020, 5, 1, 10, 10, 00), datetime(2020, 5, 1, 12, 20, 10), datetime(2020, 5, 1, 15, 10, 10)]) \\\n",
        "            ]\n",
        "\n",
        "tripsColumns = [\"row_num\", \"origin\", \"destination\", \"internal_bus_stations_ids\", \"triptimes\"]\n",
        "tripsDF = spark.createDataFrame(data=trips, schema=tripsColumns)"
      ],
      "execution_count": null,
      "outputs": []
    },
    {
      "cell_type": "code",
      "metadata": {
        "colab": {
          "base_uri": "https://localhost:8080/"
        },
        "id": "TdvkY_3AA8Sx",
        "outputId": "deea1d3b-4393-4427-e826-822eb2fd22f5"
      },
      "source": [
        "stationsDF.show()\n",
        "tripsDF.show(truncate=False)"
      ],
      "execution_count": 47,
      "outputs": [
        {
          "output_type": "stream",
          "name": "stdout",
          "text": [
            "+-------+-----------------------+------------------+\n",
            "|row_num|internal_bus_station_id|public_bus_station|\n",
            "+-------+-----------------------+------------------+\n",
            "|      1|                      0|         BAutogara|\n",
            "|      2|                      1|        BVAutogara|\n",
            "|      3|                      2|        SBAutogara|\n",
            "|      4|                      3|        CJAutogara|\n",
            "|      5|                      4|        MMAutogara|\n",
            "|      6|                      5|        ISAutogara|\n",
            "|      7|                      6|        CTAutogara|\n",
            "|      8|                      7|        TMAutogara|\n",
            "|      9|                      8|        BCAutogara|\n",
            "|     10|                      9|        MSAutogara|\n",
            "+-------+-----------------------+------------------+\n",
            "\n",
            "+-------+------+-----------+-------------------------+---------------------------------------------------------------+\n",
            "|row_num|origin|destination|internal_bus_stations_ids|triptimes                                                      |\n",
            "+-------+------+-----------+-------------------------+---------------------------------------------------------------+\n",
            "|1      |B     |MM         |[0, 2, 4]                |[2020-03-01 10:10:00, 2020-03-01 12:20:10, 2020-03-01 15:10:10]|\n",
            "|2      |BV    |IS         |[1, 8, 5]                |[2020-03-01 10:10:00, 2020-03-01 12:20:10, 2020-03-01 15:10:10]|\n",
            "|3      |TM    |CT         |[7, 2, 6]                |[2020-04-01 10:10:00, 2020-04-01 12:20:10, 2020-04-01 15:10:10]|\n",
            "|4      |CJ    |BC         |[3, 9, 8]                |[2020-05-01 10:10:00, 2020-05-01 12:20:10, 2020-05-01 15:10:10]|\n",
            "+-------+------+-----------+-------------------------+---------------------------------------------------------------+\n",
            "\n"
          ]
        }
      ]
    }
  ]
}