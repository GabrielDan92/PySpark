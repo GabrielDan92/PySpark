{
  "nbformat": 4,
  "nbformat_minor": 0,
  "metadata": {
    "colab": {
      "name": "Neanderthal.ipynb",
      "provenance": [],
      "collapsed_sections": [],
      "authorship_tag": "ABX9TyNNIDIWJ48eharDwzCqgLhD",
      "include_colab_link": true
    },
    "kernelspec": {
      "name": "python3",
      "display_name": "Python 3"
    },
    "language_info": {
      "name": "python"
    },
    "accelerator": "GPU"
  },
  "cells": [
    {
      "cell_type": "markdown",
      "metadata": {
        "id": "view-in-github",
        "colab_type": "text"
      },
      "source": [
        "<a href=\"https://colab.research.google.com/github/GabrielDan92/PySpark/blob/main/pySparkTC.ipynb\" target=\"_parent\"><img src=\"https://colab.research.google.com/assets/colab-badge.svg\" alt=\"Open In Colab\"/></a>"
      ]
    },
    {
      "cell_type": "code",
      "metadata": {
        "colab": {
          "base_uri": "https://localhost:8080/"
        },
        "id": "yi_m_a6qjneG",
        "outputId": "06f0954e-893c-4ede-8c0e-1acb912a29fb"
      },
      "source": [
        "!apt-get install openjdk-8-jdk-headless -qq > /dev/null\n",
        "!wget -q https://archive.apache.org//dist/spark/spark-3.1.2/spark-3.1.2-bin-hadoop3.2.tgz\n",
        "!tar xf spark-3.1.2-bin-hadoop3.2.tgz\n",
        "!pip install -q pyspark\n",
        "!pip install -q findspark\n",
        "\n",
        "import os\n",
        "os.environ[\"JAVA_HOME\"] = \"/usr/lib/jvm/java-8-openjdk-amd64\"\n",
        "os.environ[\"SPARK_HOME\"] = \"/content/spark-3.1.2-bin-hadoop3.2\"\n",
        "\n",
        "import findspark\n",
        "from datetime import datetime\n",
        "from pyspark.sql import SparkSession\n",
        "from pyspark.sql.window import Window\n",
        "from pyspark.sql.functions import row_number, lit, col, array, round, size, when, concat"
      ],
      "execution_count": 1,
      "outputs": [
        {
          "output_type": "stream",
          "name": "stdout",
          "text": [
            "\u001b[K     |████████████████████████████████| 212.4 MB 84 kB/s \n",
            "\u001b[K     |████████████████████████████████| 198 kB 82.5 MB/s \n",
            "\u001b[?25h  Building wheel for pyspark (setup.py) ... \u001b[?25l\u001b[?25hdone\n"
          ]
        }
      ]
    },
    {
      "cell_type": "code",
      "metadata": {
        "id": "vKHq7QKhk47E"
      },
      "source": [
        "findspark.init()\n",
        "spark = SparkSession.builder \\\n",
        "    .master(\"local[*]\") \\\n",
        "    .appName(\"Learning_Spark\") \\\n",
        "    .getOrCreate()"
      ],
      "execution_count": 2,
      "outputs": []
    },
    {
      "cell_type": "markdown",
      "metadata": {
        "id": "AfenQFEJBIbZ"
      },
      "source": [
        "***\n",
        "**No longer in use.** Import local files and add them to DataFrames instead of creating them in PySpark."
      ]
    },
    {
      "cell_type": "code",
      "metadata": {
        "id": "wxz80w5olD_f"
      },
      "source": [
        "# from google.colab import files\n",
        "# files.upload()\n",
        "# data = spark.read.csv('trips.csv',inferSchema=True, header=True)\n",
        "# data2 = spark.read.csv('stations.csv',inferSchema=True, header=True)\n",
        "\n",
        "# # add the row number column and move it to the left of the imported tables\n",
        "# w = Window().orderBy(lit('A'))\n",
        "# data = data.withColumn(\"row_num\", row_number().over(w))\n",
        "# data2 = data2.withColumn(\"row_num\", row_number().over(w))\n",
        "# data.select('row_num', 'origin', 'destination', 'internal_bus_station_ids', 'triptimes').show()\n",
        "# data2.select('row_num', 'internal_bus_station_id', 'public_bus_station_id').show()"
      ],
      "execution_count": 3,
      "outputs": []
    },
    {
      "cell_type": "markdown",
      "metadata": {
        "id": "V_nAmOQxBVoX"
      },
      "source": [
        "***"
      ]
    },
    {
      "cell_type": "code",
      "metadata": {
        "id": "UiwK2UKz75L9"
      },
      "source": [
        "stations = [(1, 0, \"BAutogara\"), \\\n",
        "            (2, 1, \"BVAutogara\"), \\\n",
        "            (3, 2, \"SBAutogara\"), \\\n",
        "            (4, 3, \"CJAutogara\"), \\\n",
        "            (5, 4, \"MMAutogara\"), \\\n",
        "            (6, 5, \"ISAutogara\"), \\\n",
        "            (7, 6, \"CTAutogara\"), \\\n",
        "            (8, 7, \"TMAutogara\"), \\\n",
        "            (9, 8, \"BCAutogara\"), \\\n",
        "            (10, 9, \"MSAutogara\")]\n",
        "\n",
        "stationsColumns = [\"row_num\", \"internal_bus_station_id\", \"public_bus_station\"]\n",
        "stationsDF = spark.createDataFrame(data=stations, schema=stationsColumns)"
      ],
      "execution_count": 4,
      "outputs": []
    },
    {
      "cell_type": "code",
      "metadata": {
        "id": "r0qGT2Jv95tA"
      },
      "source": [
        "trips = [(1, \"B\", \"MM\", [0,2,4], [datetime(2020, 3, 1, 10, 10, 00), datetime(2020, 3, 1, 12, 20, 10), datetime(2020, 3, 1, 14, 10, 10)]), \\\n",
        "        (2, \"BV\", \"IS\", [1,8,5], [datetime(2020, 3, 1, 8, 10, 00), datetime(2020, 3, 1, 12, 20, 10), datetime(2020, 3, 1, 15, 10, 10)]), \\\n",
        "        (3, \"TM\", \"CT\", [7,2,6], [datetime(2020, 4, 1, 10, 45, 00), datetime(2020, 4, 1, 12, 20, 10), datetime(2020, 4, 1, 19, 30, 10)]), \\\n",
        "        #  (4, \"CJ\", \"BC\", [3,9, 5, 6, 7], [datetime(2020, 5, 1, 7, 10, 00), datetime(2020, 5, 1, 12, 20, 10), datetime(2020, 5, 1, 13, 20, 10), datetime(2020, 5, 1, 14, 20, 10), datetime(2020, 5, 1, 15, 20, 10)])]\n",
        "        (4, \"CJ\", \"BC\", [3,9,8], [datetime(2020, 5, 1, 7, 10, 00), datetime(2020, 5, 1, 12, 20, 10), datetime(2020, 5, 2, 22, 10, 10)])]\n",
        "\n",
        "tripsColumns = [\"row_num\", \"origin\", \"destination\", \"internal_bus_stations_ids\", \"triptimes\"]\n",
        "tripsDF = spark.createDataFrame(data=trips, schema=tripsColumns)"
      ],
      "execution_count": 5,
      "outputs": []
    },
    {
      "cell_type": "code",
      "metadata": {
        "colab": {
          "base_uri": "https://localhost:8080/"
        },
        "id": "TdvkY_3AA8Sx",
        "outputId": "3cf29a24-ca0d-4135-d6b7-9b2268d8abf1"
      },
      "source": [
        "stationsDF.show()\n",
        "# stationsDF.printSchema()\n",
        "tripsDF.show(truncate=False)\n",
        "# tripsDF.printSchema()\n",
        "stations = stationsDF.alias(\"stations\")\n",
        "trips = tripsDF.alias(\"trips\")"
      ],
      "execution_count": 6,
      "outputs": [
        {
          "output_type": "stream",
          "name": "stdout",
          "text": [
            "+-------+-----------------------+------------------+\n",
            "|row_num|internal_bus_station_id|public_bus_station|\n",
            "+-------+-----------------------+------------------+\n",
            "|      1|                      0|         BAutogara|\n",
            "|      2|                      1|        BVAutogara|\n",
            "|      3|                      2|        SBAutogara|\n",
            "|      4|                      3|        CJAutogara|\n",
            "|      5|                      4|        MMAutogara|\n",
            "|      6|                      5|        ISAutogara|\n",
            "|      7|                      6|        CTAutogara|\n",
            "|      8|                      7|        TMAutogara|\n",
            "|      9|                      8|        BCAutogara|\n",
            "|     10|                      9|        MSAutogara|\n",
            "+-------+-----------------------+------------------+\n",
            "\n",
            "+-------+------+-----------+-------------------------+---------------------------------------------------------------+\n",
            "|row_num|origin|destination|internal_bus_stations_ids|triptimes                                                      |\n",
            "+-------+------+-----------+-------------------------+---------------------------------------------------------------+\n",
            "|1      |B     |MM         |[0, 2, 4]                |[2020-03-01 10:10:00, 2020-03-01 12:20:10, 2020-03-01 14:10:10]|\n",
            "|2      |BV    |IS         |[1, 8, 5]                |[2020-03-01 08:10:00, 2020-03-01 12:20:10, 2020-03-01 15:10:10]|\n",
            "|3      |TM    |CT         |[7, 2, 6]                |[2020-04-01 10:45:00, 2020-04-01 12:20:10, 2020-04-01 19:30:10]|\n",
            "|4      |CJ    |BC         |[3, 9, 8]                |[2020-05-01 07:10:00, 2020-05-01 12:20:10, 2020-05-02 22:10:10]|\n",
            "+-------+------+-----------+-------------------------+---------------------------------------------------------------+\n",
            "\n"
          ]
        }
      ]
    },
    {
      "cell_type": "markdown",
      "metadata": {
        "id": "Ss8iTKkTp8yC"
      },
      "source": [
        "Identify the arrays length and the maximum length from the `internal_bus_station_ids` column for a dynamic number of bus stops, in order to prevent hardcoding the array elements that will be selected."
      ]
    },
    {
      "cell_type": "code",
      "metadata": {
        "colab": {
          "base_uri": "https://localhost:8080/"
        },
        "id": "bVZabqufOc6_",
        "outputId": "027b59a3-cbf8-4490-e55f-a10efbac99d7"
      },
      "source": [
        "columns = trips.select(trips.internal_bus_stations_ids, size(\"internal_bus_stations_ids\").alias(\"size\"))\n",
        "columns.show()\n",
        "max = columns.agg({\"size\": \"max\"}).collect()[0]\n",
        "maxArrLength = max[\"max(size)\"]"
      ],
      "execution_count": 7,
      "outputs": [
        {
          "output_type": "stream",
          "name": "stdout",
          "text": [
            "+-------------------------+----+\n",
            "|internal_bus_stations_ids|size|\n",
            "+-------------------------+----+\n",
            "|                [0, 2, 4]|   3|\n",
            "|                [1, 8, 5]|   3|\n",
            "|                [7, 2, 6]|   3|\n",
            "|                [3, 9, 8]|   3|\n",
            "+-------------------------+----+\n",
            "\n"
          ]
        }
      ]
    },
    {
      "cell_type": "markdown",
      "metadata": {
        "id": "xeiakN7T0dxu"
      },
      "source": [
        "Create a custom string to be passed to `spark.sql()` for retrieving and splitting all array elements into individual columns, regadless of the bus stations count."
      ]
    },
    {
      "cell_type": "code",
      "metadata": {
        "colab": {
          "base_uri": "https://localhost:8080/"
        },
        "id": "BL5SKp9S0c-I",
        "outputId": "b7a74367-bdfc-4893-ae49-3cd7eb5831e2"
      },
      "source": [
        "queryString = \"\"\n",
        "tempViewName = \"trips\"\n",
        "trips.createTempView(tempViewName)\n",
        "\n",
        "for i in range(maxArrLength):\n",
        "    queryString += f\"{tempViewName}.internal_bus_stations_ids[{str(i)}] as column_{i+1}\"\n",
        "    if i != maxArrLength - 1:\n",
        "        queryString += \", \"\n",
        "\n",
        "print(f\"Dynamic SQL query: \\n <SELECT {queryString} FROM {tempViewName}>\")"
      ],
      "execution_count": 8,
      "outputs": [
        {
          "output_type": "stream",
          "name": "stdout",
          "text": [
            "Dynamic SQL query: \n",
            " <SELECT trips.internal_bus_stations_ids[0] as column_1, trips.internal_bus_stations_ids[1] as column_2, trips.internal_bus_stations_ids[2] as column_3 FROM trips>\n"
          ]
        }
      ]
    },
    {
      "cell_type": "markdown",
      "metadata": {
        "id": "e8TL-uNQfUkE"
      },
      "source": [
        "Split the internal_bus_stations_ids arrays into individual columns in a temporary table `tripsNameDF`."
      ]
    },
    {
      "cell_type": "code",
      "metadata": {
        "colab": {
          "base_uri": "https://localhost:8080/"
        },
        "id": "PjhISezL1Gz0",
        "outputId": "0619db27-02a6-40a8-cc5e-2ada6ad282f9"
      },
      "source": [
        "tripsNameDF = spark.sql(f\"SELECT {queryString} FROM {tempViewName}\")\n",
        "tripsNameDF.show()"
      ],
      "execution_count": 9,
      "outputs": [
        {
          "output_type": "stream",
          "name": "stdout",
          "text": [
            "+--------+--------+--------+\n",
            "|column_1|column_2|column_3|\n",
            "+--------+--------+--------+\n",
            "|       0|       2|       4|\n",
            "|       1|       8|       5|\n",
            "|       7|       2|       6|\n",
            "|       3|       9|       8|\n",
            "+--------+--------+--------+\n",
            "\n"
          ]
        }
      ]
    },
    {
      "cell_type": "markdown",
      "metadata": {
        "id": "vbovNxu02Km1"
      },
      "source": [
        "**No longer in use.** Hardcoded array indexes PySpark SELECT and JOIN queries."
      ]
    },
    {
      "cell_type": "code",
      "metadata": {
        "id": "qxpfSCcVELZ5"
      },
      "source": [
        "# tripsNameDF = trips.select(trips.internal_bus_stations_ids[0].alias(\"first_dest_id\"),\n",
        "#                           trips.internal_bus_stations_ids[1].alias(\"second_dest_id\"),\n",
        "#                           trips.internal_bus_stations_ids[2].alias(\"third_dest_id\"))\n",
        "# tripsNameDF.show()\n",
        "\n",
        "# tripsNameDF = tripsNameDF.join(stations, tripsNameDF.first_dest_id == stations.internal_bus_station_id, how=\"left\") \\\n",
        "#             .select(tripsNameDF[\"*\"], stations[\"public_bus_station\"].alias(\"first_dest\"))\n",
        "# tripsNameDF = tripsNameDF.join(stations, tripsNameDF.second_dest_id == stations.internal_bus_station_id, how=\"left\") \\\n",
        "#             .select(tripsNameDF[\"*\"], stations[\"public_bus_station\"].alias(\"second_dest\"))\n",
        "# tripsNameDF = tripsNameDF.join(stations, tripsNameDF.third_dest_id == stations.internal_bus_station_id, how=\"left\") \\\n",
        "#             .select(tripsNameDF[\"*\"], stations[\"public_bus_station\"].alias(\"third_dest\"))\n",
        "# tripsNameDF.show()          "
      ],
      "execution_count": 10,
      "outputs": []
    },
    {
      "cell_type": "markdown",
      "metadata": {
        "id": "YOf-h_eSgUhD"
      },
      "source": [
        "Use the individual IDs as maching terms for the left joins against the original `stations` data set."
      ]
    },
    {
      "cell_type": "code",
      "metadata": {
        "colab": {
          "base_uri": "https://localhost:8080/"
        },
        "id": "_3sAJk023c-_",
        "outputId": "8deafbce-9ed9-4124-ca56-6cbe82867513"
      },
      "source": [
        "columnNames = tripsNameDF.schema.names\n",
        "joinedName = \"\"\n",
        "\n",
        "for name in columnNames:\n",
        "    joinedName = name + \"_public\"\n",
        "    tripsNameDF = tripsNameDF.join(stations, tripsNameDF[name] == stations.internal_bus_station_id, how=\"left\") \\\n",
        "            .select(tripsNameDF[\"*\"], stations[\"public_bus_station\"].alias(joinedName))\n",
        "\n",
        "# tripsNameDF = tripsNameDF.na.fill(\"\")\n",
        "\n",
        "# for name in columnNames:\n",
        "#     tripsNameDF = tripsNameDF.withColumn(name, tripsNameDF[name].cast(\"long\"))\n",
        "\n",
        "tripsNameDF.show()"
      ],
      "execution_count": 11,
      "outputs": [
        {
          "output_type": "stream",
          "name": "stdout",
          "text": [
            "+--------+--------+--------+---------------+---------------+---------------+\n",
            "|column_1|column_2|column_3|column_1_public|column_2_public|column_3_public|\n",
            "+--------+--------+--------+---------------+---------------+---------------+\n",
            "|       7|       2|       6|     TMAutogara|     SBAutogara|     CTAutogara|\n",
            "|       1|       8|       5|     BVAutogara|     BCAutogara|     ISAutogara|\n",
            "|       3|       9|       8|     CJAutogara|     MSAutogara|     BCAutogara|\n",
            "|       0|       2|       4|      BAutogara|     SBAutogara|     MMAutogara|\n",
            "+--------+--------+--------+---------------+---------------+---------------+\n",
            "\n"
          ]
        }
      ]
    },
    {
      "cell_type": "code",
      "metadata": {
        "id": "wR-RW-cz9zNo"
      },
      "source": [
        "# tripsNameDF.printSchema()\n",
        "# columnNames = tripsNameDF.schema.names\n",
        "# for name in columnNames:\n",
        "#     tripsNameDF = tripsNameDF.withColumn(name, tripsNameDF[name].cast(\"string\"))\n",
        "\n",
        "# tripsNameDF = tripsNameDF.na.fill(\"\")\n",
        "\n",
        "# for name in columnNames:\n",
        "#     tripsNameDF = tripsNameDF.withColumn(name, tripsNameDF[name].cast(\"long\"))\n",
        "\n",
        "# tripsNameDF.printSchema()\n",
        "# tripsNameDF.show()"
      ],
      "execution_count": 12,
      "outputs": []
    },
    {
      "cell_type": "markdown",
      "metadata": {
        "id": "KBdhsM4khDoy"
      },
      "source": [
        "Add the matching values in an array, saved in a new column called \"public_bus_stops\"\n",
        "\n",
        "create arrays with null values"
      ]
    },
    {
      "cell_type": "code",
      "metadata": {
        "colab": {
          "base_uri": "https://localhost:8080/"
        },
        "id": "pPPXyRQd9Qip",
        "outputId": "1cc52647-e4e5-4144-a8db-ee07c419f9bf"
      },
      "source": [
        "columnNames = tripsNameDF.schema.names\n",
        "internal = []\n",
        "public = []\n",
        "\n",
        "for name in columnNames:\n",
        "    if name.find(\"public\") != -1:\n",
        "        public.append(name)\n",
        "    else:\n",
        "        internal.append(name)\n",
        "\n",
        "tripsNameDF = tripsNameDF.select(array(internal).alias(\"internal_bus_stations\"), \\\n",
        "                                array(public).alias(\"public_bus_stops\"))\n",
        "\n",
        "tripsNameDF.show(truncate=False)"
      ],
      "execution_count": 13,
      "outputs": [
        {
          "output_type": "stream",
          "name": "stdout",
          "text": [
            "+---------------------+------------------------------------+\n",
            "|internal_bus_stations|public_bus_stops                    |\n",
            "+---------------------+------------------------------------+\n",
            "|[7, 2, 6]            |[TMAutogara, SBAutogara, CTAutogara]|\n",
            "|[1, 8, 5]            |[BVAutogara, BCAutogara, ISAutogara]|\n",
            "|[3, 9, 8]            |[CJAutogara, MSAutogara, BCAutogara]|\n",
            "|[0, 2, 4]            |[BAutogara, SBAutogara, MMAutogara] |\n",
            "+---------------------+------------------------------------+\n",
            "\n"
          ]
        }
      ]
    },
    {
      "cell_type": "code",
      "metadata": {
        "colab": {
          "base_uri": "https://localhost:8080/"
        },
        "id": "Nkh36_VMZ0zI",
        "outputId": "ef382a54-998e-4e4c-bffc-22ed183cd060"
      },
      "source": [
        "columns = trips.select(trips.internal_bus_stations_ids.alias(\"internal_bus_stations\"), trips.triptimes, size(\"triptimes\").alias(\"size\"))\n",
        "columns.show(truncate=False)\n",
        "max = columns.agg({\"size\": \"max\"}).collect()[0]\n",
        "maxArrLength = max[\"max(size)\"]"
      ],
      "execution_count": 15,
      "outputs": [
        {
          "output_type": "stream",
          "name": "stdout",
          "text": [
            "+---------------------+---------------------------------------------------------------+----+\n",
            "|internal_bus_stations|triptimes                                                      |size|\n",
            "+---------------------+---------------------------------------------------------------+----+\n",
            "|[0, 2, 4]            |[2020-03-01 10:10:00, 2020-03-01 12:20:10, 2020-03-01 14:10:10]|3   |\n",
            "|[1, 8, 5]            |[2020-03-01 08:10:00, 2020-03-01 12:20:10, 2020-03-01 15:10:10]|3   |\n",
            "|[7, 2, 6]            |[2020-04-01 10:45:00, 2020-04-01 12:20:10, 2020-04-01 19:30:10]|3   |\n",
            "|[3, 9, 8]            |[2020-05-01 07:10:00, 2020-05-01 12:20:10, 2020-05-02 22:10:10]|3   |\n",
            "+---------------------+---------------------------------------------------------------+----+\n",
            "\n"
          ]
        }
      ]
    },
    {
      "cell_type": "code",
      "metadata": {
        "colab": {
          "base_uri": "https://localhost:8080/"
        },
        "id": "IXBcRxONaDVO",
        "outputId": "5a134cbe-2b10-4444-9e2d-8944a780179a"
      },
      "source": [
        "tempViewName = \"triptimes\"\n",
        "queryString = tempViewName + \".internal_bus_stations_ids as internal_bus_stations, \"\n",
        "trips.createTempView(tempViewName)\n",
        "\n",
        "for i in range(maxArrLength):\n",
        "    queryString += f\"{tempViewName}.triptimes[{str(i)}] as column_{i+1}\"\n",
        "    if i != maxArrLength - 1:\n",
        "        queryString += \", \"\n",
        "\n",
        "print(f\"Dynamic SQL query: \\n <SELECT {queryString} FROM {tempViewName}>\")"
      ],
      "execution_count": 16,
      "outputs": [
        {
          "output_type": "stream",
          "name": "stdout",
          "text": [
            "Dynamic SQL query: \n",
            " <SELECT triptimes.internal_bus_stations_ids as internal_bus_stations, triptimes.triptimes[0] as column_1, triptimes.triptimes[1] as column_2, triptimes.triptimes[2] as column_3 FROM triptimes>\n"
          ]
        }
      ]
    },
    {
      "cell_type": "code",
      "metadata": {
        "colab": {
          "base_uri": "https://localhost:8080/"
        },
        "id": "XGPyRL5ubVri",
        "outputId": "813e4ca0-3a90-4dc8-f25d-037f85823cfe"
      },
      "source": [
        "tripsDurationDF = spark.sql(f\"SELECT {queryString} FROM {tempViewName}\")\n",
        "tripsDurationDF.show()"
      ],
      "execution_count": 17,
      "outputs": [
        {
          "output_type": "stream",
          "name": "stdout",
          "text": [
            "+---------------------+-------------------+-------------------+-------------------+\n",
            "|internal_bus_stations|           column_1|           column_2|           column_3|\n",
            "+---------------------+-------------------+-------------------+-------------------+\n",
            "|            [0, 2, 4]|2020-03-01 10:10:00|2020-03-01 12:20:10|2020-03-01 14:10:10|\n",
            "|            [1, 8, 5]|2020-03-01 08:10:00|2020-03-01 12:20:10|2020-03-01 15:10:10|\n",
            "|            [7, 2, 6]|2020-04-01 10:45:00|2020-04-01 12:20:10|2020-04-01 19:30:10|\n",
            "|            [3, 9, 8]|2020-05-01 07:10:00|2020-05-01 12:20:10|2020-05-02 22:10:10|\n",
            "+---------------------+-------------------+-------------------+-------------------+\n",
            "\n"
          ]
        }
      ]
    },
    {
      "cell_type": "code",
      "metadata": {
        "colab": {
          "base_uri": "https://localhost:8080/"
        },
        "id": "VUgbsa4XcoHU",
        "outputId": "97e26636-8f78-40fb-e3ec-a735c72a7126"
      },
      "source": [
        "from pyspark.sql.functions import concat\n",
        "columnNames = tripsDurationDF.schema.names\n",
        "maxIndex = len(columnNames)-1\n",
        "\n",
        "tripsDurationDF = tripsDurationDF.withColumn(\"duration\", \\\n",
        "                                             col(columnNames[len(columnNames)-1]).cast(\"int\") - \\\n",
        "                                             col(columnNames[1]).cast(\"int\"))\n",
        "tripsDurationDF.show()\n",
        "\n",
        "for i in range(maxIndex, 0, -1):\n",
        "    tripsDurationDF = tripsDurationDF.withColumn(\"duration\", \\\n",
        "                                            when(tripsDurationDF[\"duration\"].isNull(), \\\n",
        "                                            col(columnNames[i]).cast(\"int\") - col(columnNames[1]).cast(\"int\")) \\\n",
        "                                            .otherwise(tripsDurationDF[\"duration\"]))\n",
        "\n",
        "tripsDurationDF = tripsDurationDF.withColumn(\"duration\", round(tripsDurationDF[\"duration\"])/60)\n",
        "tripsDurationDF = tripsDurationDF.withColumn(\"duration\", round(tripsDurationDF[\"duration\"],2))\n",
        "tripsDurationDF = tripsDurationDF.withColumn(\"duration\", concat(col(\"duration\"), lit(\" min\")))\n",
        "tripsDurationDF.show(truncate=False)"
      ],
      "execution_count": 18,
      "outputs": [
        {
          "output_type": "stream",
          "name": "stdout",
          "text": [
            "+---------------------+-------------------+-------------------+-------------------+--------+\n",
            "|internal_bus_stations|           column_1|           column_2|           column_3|duration|\n",
            "+---------------------+-------------------+-------------------+-------------------+--------+\n",
            "|            [0, 2, 4]|2020-03-01 10:10:00|2020-03-01 12:20:10|2020-03-01 14:10:10|   14410|\n",
            "|            [1, 8, 5]|2020-03-01 08:10:00|2020-03-01 12:20:10|2020-03-01 15:10:10|   25210|\n",
            "|            [7, 2, 6]|2020-04-01 10:45:00|2020-04-01 12:20:10|2020-04-01 19:30:10|   31510|\n",
            "|            [3, 9, 8]|2020-05-01 07:10:00|2020-05-01 12:20:10|2020-05-02 22:10:10|  140410|\n",
            "+---------------------+-------------------+-------------------+-------------------+--------+\n",
            "\n",
            "+---------------------+-------------------+-------------------+-------------------+-----------+\n",
            "|internal_bus_stations|column_1           |column_2           |column_3           |duration   |\n",
            "+---------------------+-------------------+-------------------+-------------------+-----------+\n",
            "|[0, 2, 4]            |2020-03-01 10:10:00|2020-03-01 12:20:10|2020-03-01 14:10:10|240.17 min |\n",
            "|[1, 8, 5]            |2020-03-01 08:10:00|2020-03-01 12:20:10|2020-03-01 15:10:10|420.17 min |\n",
            "|[7, 2, 6]            |2020-04-01 10:45:00|2020-04-01 12:20:10|2020-04-01 19:30:10|525.17 min |\n",
            "|[3, 9, 8]            |2020-05-01 07:10:00|2020-05-01 12:20:10|2020-05-02 22:10:10|2340.17 min|\n",
            "+---------------------+-------------------+-------------------+-------------------+-----------+\n",
            "\n"
          ]
        }
      ]
    },
    {
      "cell_type": "code",
      "metadata": {
        "colab": {
          "base_uri": "https://localhost:8080/"
        },
        "id": "z-iA5uLeuwE7",
        "outputId": "58647982-2771-40dd-db78-105050a79fd3"
      },
      "source": [
        "columnNames = tripsDurationDF.schema.names\n",
        "timestamps = []\n",
        "\n",
        "for i in range(1, len(columnNames)-1):\n",
        "        timestamps.append(columnNames[i])\n",
        "\n",
        "tripsDurationDF = tripsDurationDF.select(tripsDurationDF.internal_bus_stations, \\\n",
        "                                array(timestamps).alias(\"triptimes\"), tripsDurationDF.duration)\n",
        "\n",
        "tripsDurationDF.show(truncate=False)"
      ],
      "execution_count": 19,
      "outputs": [
        {
          "output_type": "stream",
          "name": "stdout",
          "text": [
            "+---------------------+---------------------------------------------------------------+-----------+\n",
            "|internal_bus_stations|triptimes                                                      |duration   |\n",
            "+---------------------+---------------------------------------------------------------+-----------+\n",
            "|[0, 2, 4]            |[2020-03-01 10:10:00, 2020-03-01 12:20:10, 2020-03-01 14:10:10]|240.17 min |\n",
            "|[1, 8, 5]            |[2020-03-01 08:10:00, 2020-03-01 12:20:10, 2020-03-01 15:10:10]|420.17 min |\n",
            "|[7, 2, 6]            |[2020-04-01 10:45:00, 2020-04-01 12:20:10, 2020-04-01 19:30:10]|525.17 min |\n",
            "|[3, 9, 8]            |[2020-05-01 07:10:00, 2020-05-01 12:20:10, 2020-05-02 22:10:10]|2340.17 min|\n",
            "+---------------------+---------------------------------------------------------------+-----------+\n",
            "\n"
          ]
        }
      ]
    },
    {
      "cell_type": "code",
      "metadata": {
        "colab": {
          "base_uri": "https://localhost:8080/"
        },
        "id": "azt8QxcGeXc5",
        "outputId": "2267e791-4311-4ae1-c333-2e31436558ed"
      },
      "source": [
        "trips = trips.join(tripsDurationDF, trips.internal_bus_stations_ids == tripsDurationDF.internal_bus_stations) \\\n",
        "        .select(trips[\"internal_bus_stations_ids\"], trips[\"row_num\"], trips[\"origin\"], trips[\"destination\"], tripsDurationDF[\"duration\"])\n",
        "trips.orderBy([\"row_num\"]).show(truncate=False)"
      ],
      "execution_count": 21,
      "outputs": [
        {
          "output_type": "stream",
          "name": "stdout",
          "text": [
            "+-------------------------+-------+------+-----------+-----------+\n",
            "|internal_bus_stations_ids|row_num|origin|destination|duration   |\n",
            "+-------------------------+-------+------+-----------+-----------+\n",
            "|[0, 2, 4]                |1      |B     |MM         |240.17 min |\n",
            "|[1, 8, 5]                |2      |BV    |IS         |420.17 min |\n",
            "|[7, 2, 6]                |3      |TM    |CT         |525.17 min |\n",
            "|[3, 9, 8]                |4      |CJ    |BC         |2340.17 min|\n",
            "+-------------------------+-------+------+-----------+-----------+\n",
            "\n"
          ]
        }
      ]
    },
    {
      "cell_type": "code",
      "metadata": {
        "colab": {
          "base_uri": "https://localhost:8080/"
        },
        "id": "pY-SMYNrSmF_",
        "outputId": "e4d68177-9b89-4b84-b994-2d170e5b9106"
      },
      "source": [
        "trips = trips.join(tripsNameDF, trips.internal_bus_stations_ids == tripsNameDF.internal_bus_stations) \\\n",
        "        .select(trips[\"row_num\"], trips[\"origin\"], trips[\"destination\"], trips[\"internal_bus_stations_ids\"], tripsNameDF[\"public_bus_stops\"], trips[\"duration\"])\n",
        "trips.orderBy([\"row_num\"]).show(truncate=False)"
      ],
      "execution_count": 22,
      "outputs": [
        {
          "output_type": "stream",
          "name": "stdout",
          "text": [
            "+-------+------+-----------+-------------------------+------------------------------------+-----------+\n",
            "|row_num|origin|destination|internal_bus_stations_ids|public_bus_stops                    |duration   |\n",
            "+-------+------+-----------+-------------------------+------------------------------------+-----------+\n",
            "|1      |B     |MM         |[0, 2, 4]                |[BAutogara, SBAutogara, MMAutogara] |240.17 min |\n",
            "|2      |BV    |IS         |[1, 8, 5]                |[BVAutogara, BCAutogara, ISAutogara]|420.17 min |\n",
            "|3      |TM    |CT         |[7, 2, 6]                |[TMAutogara, SBAutogara, CTAutogara]|525.17 min |\n",
            "|4      |CJ    |BC         |[3, 9, 8]                |[CJAutogara, MSAutogara, BCAutogara]|2340.17 min|\n",
            "+-------+------+-----------+-------------------------+------------------------------------+-----------+\n",
            "\n"
          ]
        }
      ]
    }
  ]
}