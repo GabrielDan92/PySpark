{
  "nbformat": 4,
  "nbformat_minor": 0,
  "metadata": {
    "colab": {
      "name": "Neanderthal.ipynb",
      "provenance": [],
      "collapsed_sections": [],
      "authorship_tag": "ABX9TyPpuKdMS/g5JqQ1zY+Nfvy6",
      "include_colab_link": true
    },
    "kernelspec": {
      "name": "python3",
      "display_name": "Python 3"
    },
    "language_info": {
      "name": "python"
    },
    "accelerator": "GPU"
  },
  "cells": [
    {
      "cell_type": "markdown",
      "metadata": {
        "id": "view-in-github",
        "colab_type": "text"
      },
      "source": [
        "<a href=\"https://colab.research.google.com/github/GabrielDan92/PySpark/blob/main/pySparkTC.ipynb\" target=\"_parent\"><img src=\"https://colab.research.google.com/assets/colab-badge.svg\" alt=\"Open In Colab\"/></a>"
      ]
    },
    {
      "cell_type": "code",
      "metadata": {
        "colab": {
          "base_uri": "https://localhost:8080/"
        },
        "id": "yi_m_a6qjneG",
        "outputId": "03551ed2-7d72-474f-8736-bdddb37af0a7"
      },
      "source": [
        "!apt-get install openjdk-8-jdk-headless -qq > /dev/null\n",
        "!wget -q https://archive.apache.org//dist/spark/spark-3.1.2/spark-3.1.2-bin-hadoop3.2.tgz\n",
        "!tar xf spark-3.1.2-bin-hadoop3.2.tgz\n",
        "!pip install -q pyspark\n",
        "!pip install -q findspark\n",
        "\n",
        "import os\n",
        "os.environ[\"JAVA_HOME\"] = \"/usr/lib/jvm/java-8-openjdk-amd64\"\n",
        "os.environ[\"SPARK_HOME\"] = \"/content/spark-3.1.2-bin-hadoop3.2\"\n",
        "\n",
        "import findspark\n",
        "from datetime import datetime\n",
        "from pyspark.sql import SparkSession\n",
        "from pyspark.sql.window import Window\n",
        "from pyspark.sql.functions import row_number, lit, col, array, round"
      ],
      "execution_count": 1,
      "outputs": [
        {
          "output_type": "stream",
          "name": "stdout",
          "text": [
            "\u001b[K     |████████████████████████████████| 212.4 MB 69 kB/s \n",
            "\u001b[K     |████████████████████████████████| 198 kB 46.8 MB/s \n",
            "\u001b[?25h  Building wheel for pyspark (setup.py) ... \u001b[?25l\u001b[?25hdone\n"
          ]
        }
      ]
    },
    {
      "cell_type": "code",
      "metadata": {
        "id": "vKHq7QKhk47E"
      },
      "source": [
        "findspark.init()\n",
        "spark = SparkSession.builder \\\n",
        "    .master(\"local[*]\") \\\n",
        "    .appName(\"Learning_Spark\") \\\n",
        "    .getOrCreate()"
      ],
      "execution_count": 2,
      "outputs": []
    },
    {
      "cell_type": "markdown",
      "metadata": {
        "id": "AfenQFEJBIbZ"
      },
      "source": [
        "***\n",
        "**(!) optional:** import the tables from local files instead of creating them in pyspark"
      ]
    },
    {
      "cell_type": "code",
      "metadata": {
        "id": "wxz80w5olD_f"
      },
      "source": [
        "# from google.colab import files\n",
        "# files.upload()\n",
        "# data = spark.read.csv('trips.csv',inferSchema=True, header=True)\n",
        "# data2 = spark.read.csv('stations.csv',inferSchema=True, header=True)\n",
        "\n",
        "# # add the row number column and move it to the left of the imported tables\n",
        "# w = Window().orderBy(lit('A'))\n",
        "# data = data.withColumn(\"row_num\", row_number().over(w))\n",
        "# data2 = data2.withColumn(\"row_num\", row_number().over(w))\n",
        "# data.select('row_num', 'origin', 'destination', 'internal_bus_station_ids', 'triptimes').show()\n",
        "# data2.select('row_num', 'internal_bus_station_id', 'public_bus_station_id').show()"
      ],
      "execution_count": null,
      "outputs": []
    },
    {
      "cell_type": "markdown",
      "metadata": {
        "id": "V_nAmOQxBVoX"
      },
      "source": [
        "***"
      ]
    },
    {
      "cell_type": "code",
      "metadata": {
        "id": "UiwK2UKz75L9"
      },
      "source": [
        "stations = [(1, 0, \"BAutogara\"), \\\n",
        "            (2, 1, \"BVAutogara\"), \\\n",
        "            (3, 2, \"SBAutogara\"), \\\n",
        "            (4, 3, \"CJAutogara\"), \\\n",
        "            (5, 4, \"MMAutogara\"), \\\n",
        "            (6, 5, \"ISAutogara\"), \\\n",
        "            (7, 6, \"CTAutogara\"), \\\n",
        "            (8, 7, \"TMAutogara\"), \\\n",
        "            (9, 8, \"BCAutogara\"), \\\n",
        "            (10, 9, \"MSAutogara\")]\n",
        "\n",
        "stationsColumns = [\"row_num\", \"internal_bus_station_id\", \"public_bus_station\"]\n",
        "stationsDF = spark.createDataFrame(data=stations, schema=stationsColumns)"
      ],
      "execution_count": 3,
      "outputs": []
    },
    {
      "cell_type": "code",
      "metadata": {
        "id": "r0qGT2Jv95tA"
      },
      "source": [
        "trips = [(1, \"B\", \"MM\", [0,2,4], [datetime(2020, 3, 1, 10, 10, 00), datetime(2020, 3, 1, 12, 20, 10), datetime(2020, 3, 1, 14, 10, 10)]), \\\n",
        "        (2, \"BV\", \"IS\", [1,8,5], [datetime(2020, 3, 1, 8, 10, 00), datetime(2020, 3, 1, 12, 20, 10), datetime(2020, 3, 1, 15, 10, 10)]), \\\n",
        "        (3, \"TM\", \"CT\", [7,2,6], [datetime(2020, 4, 1, 10, 45, 00), datetime(2020, 4, 1, 12, 20, 10), datetime(2020, 4, 1, 19, 30, 10)]), \\\n",
        "        (4, \"CJ\", \"BC\", [3,9,8], [datetime(2020, 5, 1, 7, 10, 00), datetime(2020, 5, 1, 12, 20, 10), datetime(2020, 5, 2, 22, 10, 10)])]\n",
        "\n",
        "tripsColumns = [\"row_num\", \"origin\", \"destination\", \"internal_bus_stations_ids\", \"triptimes\"]\n",
        "tripsDF = spark.createDataFrame(data=trips, schema=tripsColumns)"
      ],
      "execution_count": 60,
      "outputs": []
    },
    {
      "cell_type": "code",
      "metadata": {
        "colab": {
          "base_uri": "https://localhost:8080/"
        },
        "id": "TdvkY_3AA8Sx",
        "outputId": "b5fc1beb-1099-48c9-88d0-86d52354722c"
      },
      "source": [
        "stationsDF.show()\n",
        "# stationsDF.printSchema()\n",
        "tripsDF.show(truncate=False)\n",
        "# tripsDF.printSchema()\n",
        "stations = stationsDF.alias(\"stations\")\n",
        "trips = tripsDF.alias(\"trips\")"
      ],
      "execution_count": 61,
      "outputs": [
        {
          "output_type": "stream",
          "name": "stdout",
          "text": [
            "+-------+-----------------------+------------------+\n",
            "|row_num|internal_bus_station_id|public_bus_station|\n",
            "+-------+-----------------------+------------------+\n",
            "|      1|                      0|         BAutogara|\n",
            "|      2|                      1|        BVAutogara|\n",
            "|      3|                      2|        SBAutogara|\n",
            "|      4|                      3|        CJAutogara|\n",
            "|      5|                      4|        MMAutogara|\n",
            "|      6|                      5|        ISAutogara|\n",
            "|      7|                      6|        CTAutogara|\n",
            "|      8|                      7|        TMAutogara|\n",
            "|      9|                      8|        BCAutogara|\n",
            "|     10|                      9|        MSAutogara|\n",
            "+-------+-----------------------+------------------+\n",
            "\n",
            "+-------+------+-----------+-------------------------+---------------------------------------------------------------+\n",
            "|row_num|origin|destination|internal_bus_stations_ids|triptimes                                                      |\n",
            "+-------+------+-----------+-------------------------+---------------------------------------------------------------+\n",
            "|1      |B     |MM         |[0, 2, 4]                |[2020-03-01 10:10:00, 2020-03-01 12:20:10, 2020-03-01 14:10:10]|\n",
            "|2      |BV    |IS         |[1, 5]                   |[2020-03-01 08:10:00, 2020-03-01 12:20:10, 2020-03-01 15:10:10]|\n",
            "|3      |TM    |CT         |[7, 2, 6]                |[2020-04-01 10:45:00, 2020-04-01 12:20:10, 2020-04-01 19:30:10]|\n",
            "|4      |CJ    |BC         |[3, 9, 8]                |[2020-05-01 07:10:00, 2020-05-01 12:20:10, 2020-05-02 22:10:10]|\n",
            "+-------+------+-----------+-------------------------+---------------------------------------------------------------+\n",
            "\n"
          ]
        }
      ]
    },
    {
      "cell_type": "markdown",
      "metadata": {
        "id": "e8TL-uNQfUkE"
      },
      "source": [
        "Split the internal_bus_stations_ids arrays into individual columns in a temporary table \"tripsNameDF\"."
      ]
    },
    {
      "cell_type": "code",
      "metadata": {
        "id": "qxpfSCcVELZ5",
        "colab": {
          "base_uri": "https://localhost:8080/"
        },
        "outputId": "f0934b2b-3491-4b4a-ac4f-13312c1f048a"
      },
      "source": [
        "tripsNameDF = trips.select(trips.internal_bus_stations_ids[0].alias(\"first_dest_id\"),\n",
        "                          trips.internal_bus_stations_ids[1].alias(\"second_dest_id\"),\n",
        "                          trips.internal_bus_stations_ids[2].alias(\"third_dest_id\"))\n",
        "tripsNameDF.show()"
      ],
      "execution_count": 67,
      "outputs": [
        {
          "output_type": "stream",
          "name": "stdout",
          "text": [
            "+-------------+--------------+-------------+\n",
            "|first_dest_id|second_dest_id|third_dest_id|\n",
            "+-------------+--------------+-------------+\n",
            "|            0|             2|            4|\n",
            "|            1|             5|         null|\n",
            "|            7|             2|            6|\n",
            "|            3|             9|            8|\n",
            "+-------------+--------------+-------------+\n",
            "\n"
          ]
        }
      ]
    },
    {
      "cell_type": "markdown",
      "metadata": {
        "id": "YOf-h_eSgUhD"
      },
      "source": [
        "Use the individual IDs as maching terms for the left joins against the original \"stations\" table.\n",
        "\n",
        "Left join used for capturing complete trips and also trips with less than 3 stops"
      ]
    },
    {
      "cell_type": "code",
      "metadata": {
        "id": "7p39LESSgPYb",
        "colab": {
          "base_uri": "https://localhost:8080/"
        },
        "outputId": "e194e4e5-f7b1-4c8d-f0b6-34275af91a82"
      },
      "source": [
        "tripsNameDF = tripsNameDF.join(stations, tripsNameDF.first_dest_id == stations.internal_bus_station_id, how=\"left\") \\\n",
        "            .select(tripsNameDF[\"*\"], stations[\"public_bus_station\"].alias(\"first_dest\"))\n",
        "tripsNameDF = tripsNameDF.join(stations, tripsNameDF.second_dest_id == stations.internal_bus_station_id, how=\"left\") \\\n",
        "            .select(tripsNameDF[\"*\"], stations[\"public_bus_station\"].alias(\"second_dest\"))\n",
        "tripsNameDF = tripsNameDF.join(stations, tripsNameDF.third_dest_id == stations.internal_bus_station_id, how=\"left\") \\\n",
        "            .select(tripsNameDF[\"*\"], stations[\"public_bus_station\"].alias(\"third_dest\"))\n",
        "\n",
        "tripsNameDF.show(truncate=False)"
      ],
      "execution_count": 68,
      "outputs": [
        {
          "output_type": "stream",
          "name": "stdout",
          "text": [
            "+-------------+--------------+-------------+----------+-----------+----------+\n",
            "|first_dest_id|second_dest_id|third_dest_id|first_dest|second_dest|third_dest|\n",
            "+-------------+--------------+-------------+----------+-----------+----------+\n",
            "|1            |5             |null         |BVAutogara|ISAutogara |null      |\n",
            "|7            |2             |6            |TMAutogara|SBAutogara |CTAutogara|\n",
            "|3            |9             |8            |CJAutogara|MSAutogara |BCAutogara|\n",
            "|0            |2             |4            |BAutogara |SBAutogara |MMAutogara|\n",
            "+-------------+--------------+-------------+----------+-----------+----------+\n",
            "\n"
          ]
        }
      ]
    },
    {
      "cell_type": "markdown",
      "metadata": {
        "id": "KBdhsM4khDoy"
      },
      "source": [
        "Add the matching values in an array, saved in a new column called \"public_bus_stops\"\n",
        "\n",
        "create arrays with null values"
      ]
    },
    {
      "cell_type": "code",
      "metadata": {
        "id": "AlfCfhyug56F",
        "colab": {
          "base_uri": "https://localhost:8080/"
        },
        "outputId": "eea1b706-d5dc-446d-e44f-c416e289b7ae"
      },
      "source": [
        "tripsNameDF = tripsNameDF.select(array(\"first_dest_id\", \"second_dest_id\", \"third_dest_id\").alias(\"internal_bus_stations_ids\"), \\\n",
        "                               array(\"first_dest\", \"second_dest\", \"third_dest\").alias(\"public_bus_stops\"))\n",
        "tripsNameDF.show(truncate=False)"
      ],
      "execution_count": 69,
      "outputs": [
        {
          "output_type": "stream",
          "name": "stdout",
          "text": [
            "+-------------------------+------------------------------------+\n",
            "|internal_bus_stations_ids|public_bus_stops                    |\n",
            "+-------------------------+------------------------------------+\n",
            "|[1, 5, null]             |[BVAutogara, ISAutogara, null]      |\n",
            "|[7, 2, 6]                |[TMAutogara, SBAutogara, CTAutogara]|\n",
            "|[3, 9, 8]                |[CJAutogara, MSAutogara, BCAutogara]|\n",
            "|[0, 2, 4]                |[BAutogara, SBAutogara, MMAutogara] |\n",
            "+-------------------------+------------------------------------+\n",
            "\n"
          ]
        }
      ]
    },
    {
      "cell_type": "code",
      "metadata": {
        "colab": {
          "base_uri": "https://localhost:8080/"
        },
        "id": "YEDuzYk9XKTu",
        "outputId": "d0571217-eb54-4989-f7f4-cd896bec77f7"
      },
      "source": [
        "tripsDurationDF = trips.select(trips.internal_bus_stations_ids,\n",
        "                                trips.triptimes [0].alias(\"first_dest_time\"),\n",
        "                                trips.triptimes [1].alias(\"second_dest_time\"),\n",
        "                                trips.triptimes [2].alias(\"third_dest_time\"),)\n",
        "\n",
        "tripsDurationDF.show(truncate=False)"
      ],
      "execution_count": 70,
      "outputs": [
        {
          "output_type": "stream",
          "name": "stdout",
          "text": [
            "+-------------------------+-------------------+-------------------+-------------------+\n",
            "|internal_bus_stations_ids|first_dest_time    |second_dest_time   |third_dest_time    |\n",
            "+-------------------------+-------------------+-------------------+-------------------+\n",
            "|[0, 2, 4]                |2020-03-01 10:10:00|2020-03-01 12:20:10|2020-03-01 14:10:10|\n",
            "|[1, 5]                   |2020-03-01 08:10:00|2020-03-01 12:20:10|2020-03-01 15:10:10|\n",
            "|[7, 2, 6]                |2020-04-01 10:45:00|2020-04-01 12:20:10|2020-04-01 19:30:10|\n",
            "|[3, 9, 8]                |2020-05-01 07:10:00|2020-05-01 12:20:10|2020-05-02 22:10:10|\n",
            "+-------------------------+-------------------+-------------------+-------------------+\n",
            "\n"
          ]
        }
      ]
    },
    {
      "cell_type": "code",
      "metadata": {
        "colab": {
          "base_uri": "https://localhost:8080/"
        },
        "id": "7pilVD87_U2b",
        "outputId": "2893b614-5206-42e3-d844-3921291d87dc"
      },
      "source": [
        "tripsDurationDF = tripsDurationDF.withColumn(\"duration\", \\\n",
        "                                             tripsDurationDF[\"third_dest_time\"].cast(\"int\") - \\\n",
        "                                             tripsDurationDF[\"first_dest_time\"].cast(\"int\")\n",
        "                                             )\n",
        "\n",
        "tripsDurationDF = tripsDurationDF.withColumn(\"duration\", round(tripsDurationDF[\"duration\"])/60)\n",
        "tripsDurationDF = tripsDurationDF.withColumn(\"duration\", round(tripsDurationDF[\"duration\"],2))\n",
        "tripsDurationDF = tripsDurationDF.withColumn(\"duration\", concat(col(\"duration\"), lit(\" min\")))\n",
        "tripsDurationDF.show(truncate=False)"
      ],
      "execution_count": 71,
      "outputs": [
        {
          "output_type": "stream",
          "name": "stdout",
          "text": [
            "+-------------------------+-------------------+-------------------+-------------------+-----------+\n",
            "|internal_bus_stations_ids|first_dest_time    |second_dest_time   |third_dest_time    |duration   |\n",
            "+-------------------------+-------------------+-------------------+-------------------+-----------+\n",
            "|[0, 2, 4]                |2020-03-01 10:10:00|2020-03-01 12:20:10|2020-03-01 14:10:10|240.17 min |\n",
            "|[1, 5]                   |2020-03-01 08:10:00|2020-03-01 12:20:10|2020-03-01 15:10:10|420.17 min |\n",
            "|[7, 2, 6]                |2020-04-01 10:45:00|2020-04-01 12:20:10|2020-04-01 19:30:10|525.17 min |\n",
            "|[3, 9, 8]                |2020-05-01 07:10:00|2020-05-01 12:20:10|2020-05-02 22:10:10|2340.17 min|\n",
            "+-------------------------+-------------------+-------------------+-------------------+-----------+\n",
            "\n"
          ]
        }
      ]
    },
    {
      "cell_type": "code",
      "metadata": {
        "colab": {
          "base_uri": "https://localhost:8080/"
        },
        "id": "pY-SMYNrSmF_",
        "outputId": "2ea41166-1778-4ca0-a490-1f30b05a0c0a"
      },
      "source": [
        "trips = trips.join(tripsNameDF, trips.internal_bus_stations_ids == tripsNameDF.internal_bus_stations_ids) \\\n",
        "        .select(trips[\"row_num\"], trips[\"origin\"], trips[\"destination\"], trips[\"internal_bus_stations_ids\"], tripsNameDF[\"public_bus_stops\"], trips[\"triptimes\"])\n",
        "trips.orderBy([\"row_num\"]).show(truncate=False)"
      ],
      "execution_count": 72,
      "outputs": [
        {
          "output_type": "stream",
          "name": "stdout",
          "text": [
            "+-------+------+-----------+-------------------------+------------------------------------+---------------------------------------------------------------+\n",
            "|row_num|origin|destination|internal_bus_stations_ids|public_bus_stops                    |triptimes                                                      |\n",
            "+-------+------+-----------+-------------------------+------------------------------------+---------------------------------------------------------------+\n",
            "|1      |B     |MM         |[0, 2, 4]                |[BAutogara, SBAutogara, MMAutogara] |[2020-03-01 10:10:00, 2020-03-01 12:20:10, 2020-03-01 14:10:10]|\n",
            "|3      |TM    |CT         |[7, 2, 6]                |[TMAutogara, SBAutogara, CTAutogara]|[2020-04-01 10:45:00, 2020-04-01 12:20:10, 2020-04-01 19:30:10]|\n",
            "|4      |CJ    |BC         |[3, 9, 8]                |[CJAutogara, MSAutogara, BCAutogara]|[2020-05-01 07:10:00, 2020-05-01 12:20:10, 2020-05-02 22:10:10]|\n",
            "+-------+------+-----------+-------------------------+------------------------------------+---------------------------------------------------------------+\n",
            "\n"
          ]
        }
      ]
    },
    {
      "cell_type": "code",
      "metadata": {
        "colab": {
          "base_uri": "https://localhost:8080/"
        },
        "id": "azt8QxcGeXc5",
        "outputId": "0c21dd02-7619-4912-c9da-35047a872126"
      },
      "source": [
        "trips = trips.join(tripsDurationDF, trips.internal_bus_stations_ids == tripsDurationDF.internal_bus_stations_ids) \\\n",
        "        .select(trips[\"row_num\"], trips[\"origin\"], trips[\"destination\"], trips[\"public_bus_stops\"], tripsDurationDF[\"duration\"])\n",
        "trips.orderBy([\"row_num\"]).show(truncate=False)"
      ],
      "execution_count": 73,
      "outputs": [
        {
          "output_type": "stream",
          "name": "stdout",
          "text": [
            "+-------+------+-----------+------------------------------------+-----------+\n",
            "|row_num|origin|destination|public_bus_stops                    |duration   |\n",
            "+-------+------+-----------+------------------------------------+-----------+\n",
            "|1      |B     |MM         |[BAutogara, SBAutogara, MMAutogara] |240.17 min |\n",
            "|3      |TM    |CT         |[TMAutogara, SBAutogara, CTAutogara]|525.17 min |\n",
            "|4      |CJ    |BC         |[CJAutogara, MSAutogara, BCAutogara]|2340.17 min|\n",
            "+-------+------+-----------+------------------------------------+-----------+\n",
            "\n"
          ]
        }
      ]
    }
  ]
}