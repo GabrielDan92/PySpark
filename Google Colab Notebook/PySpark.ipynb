{
  "nbformat": 4,
  "nbformat_minor": 0,
  "metadata": {
    "colab": {
      "name": "pyspark_tc.ipynb",
      "provenance": [],
      "collapsed_sections": []
    },
    "kernelspec": {
      "name": "python3",
      "display_name": "Python 3"
    },
    "language_info": {
      "name": "python"
    },
    "accelerator": "GPU"
  },
  "cells": [
    {
      "cell_type": "code",
      "metadata": {
        "colab": {
          "base_uri": "https://localhost:8080/"
        },
        "id": "yi_m_a6qjneG",
        "outputId": "7d350c2b-ad58-45eb-fe2b-b72c677db37e"
      },
      "source": [
        "!apt-get install openjdk-8-jdk-headless -qq > /dev/null\n",
        "!wget -q https://archive.apache.org//dist/spark/spark-3.1.2/spark-3.1.2-bin-hadoop3.2.tgz\n",
        "!tar xf spark-3.1.2-bin-hadoop3.2.tgz\n",
        "!pip install -q pyspark\n",
        "!pip install -q findspark\n",
        "\n",
        "import os\n",
        "os.environ[\"JAVA_HOME\"] = \"/usr/lib/jvm/java-8-openjdk-amd64\"\n",
        "os.environ[\"SPARK_HOME\"] = \"/content/spark-3.1.2-bin-hadoop3.2\"\n",
        "\n",
        "import findspark\n",
        "from datetime import datetime\n",
        "from pyspark.sql import SparkSession\n",
        "from pyspark.sql.window import Window\n",
        "from pyspark.sql.functions import row_number, lit, col, array, round, size, when, concat, concat_ws, array_except, element_at"
      ],
      "execution_count": null,
      "outputs": [
        {
          "output_type": "stream",
          "name": "stdout",
          "text": [
            "\u001b[K     |████████████████████████████████| 212.4 MB 65 kB/s \n",
            "\u001b[K     |████████████████████████████████| 198 kB 29.1 MB/s \n",
            "\u001b[?25h  Building wheel for pyspark (setup.py) ... \u001b[?25l\u001b[?25hdone\n"
          ]
        }
      ]
    },
    {
      "cell_type": "code",
      "metadata": {
        "id": "vKHq7QKhk47E"
      },
      "source": [
        "findspark.init()\n",
        "spark = SparkSession.builder \\\n",
        "    .master(\"local[*]\") \\\n",
        "    .appName(\"spark_TC\") \\\n",
        "    .getOrCreate()"
      ],
      "execution_count": null,
      "outputs": []
    },
    {
      "cell_type": "code",
      "metadata": {
        "id": "-mgQPtawAEcf"
      },
      "source": [
        "stations = [(0, \"BAutogara\"), \\\n",
        "            (1, \"BVAutogara\"), \\\n",
        "            (2, \"SBAutogara\"), \\\n",
        "            (3, \"CJAutogara\"), \\\n",
        "            (4, \"MMAutogara\"), \\\n",
        "            (5, \"ISAutogara\"), \\\n",
        "            (6, \"CTAutogara\"), \\\n",
        "            (7, \"TMAutogara\"), \\\n",
        "            (8, \"BCAutogara\"), \\\n",
        "            (9, \"MSAutogara\")]\n",
        "\n",
        "stationsColumns = [\"internal_bus_station_id\", \"public_bus_station\"]\n",
        "stationsDF = spark.createDataFrame(data=stations, schema=stationsColumns)\n",
        "\n",
        "w = Window().orderBy(lit('A'))\n",
        "stationsDF = stationsDF.withColumn(\"row_num\", row_number().over(w))\n",
        "stationsDF = stationsDF.select(\"row_num\", \"internal_bus_station_id\", \"public_bus_station\")"
      ],
      "execution_count": null,
      "outputs": []
    },
    {
      "cell_type": "code",
      "metadata": {
        "id": "2DBiP7HcBGbt"
      },
      "source": [
        "trips = [(\"B\", \"MM\", [0,2,4], [datetime(2020, 3, 1, 10, 10, 00), datetime(2020, 3, 1, 12, 20, 10), datetime(2020, 3, 1, 14, 10, 10)]), \\\n",
        "        (\"BV\", \"IS\", [1,8,3,5], [datetime(2020, 3, 1, 8, 10, 00), datetime(2020, 3, 1, 12, 20, 10), datetime(2020, 3, 1, 15, 10, 10), datetime(2020, 3, 1, 15, 45, 10)]), \\\n",
        "        (\"TM\", \"CT\", [7,2,9,4,6], [datetime(2020, 4, 1, 10, 45, 00), datetime(2020, 4, 1, 12, 20, 10), datetime(2020, 4, 1, 19, 30, 10), datetime(2020, 4, 1, 21, 30, 10), datetime(2020, 4, 1, 22, 00, 10)]), \\\n",
        "        (\"CJ\", \"BC\", [3,9,5,6,7,8], [datetime(2020, 5, 1, 7, 10, 00), datetime(2020, 5, 1, 12, 20, 10), datetime(2020, 5, 1, 13, 20, 10), datetime(2020, 5, 1, 14, 20, 10), datetime(2020, 5, 1, 15, 20, 10), datetime(2020, 5, 1, 21, 20, 10)])]\n",
        "\n",
        "tripsColumns = [\"origin\", \"destination\", \"internal_bus_stations_ids\", \"triptimes\"]\n",
        "tripsDF = spark.createDataFrame(data=trips, schema=tripsColumns)\n",
        "w = Window().orderBy(lit('A'))\n",
        "tripsDF = tripsDF.withColumn(\"row_num\", row_number().over(w))\n",
        "tripsDF = tripsDF.select(\"row_num\", \"origin\", \"destination\", \"internal_bus_stations_ids\", \"triptimes\")"
      ],
      "execution_count": null,
      "outputs": []
    },
    {
      "cell_type": "code",
      "metadata": {
        "colab": {
          "base_uri": "https://localhost:8080/"
        },
        "id": "TdvkY_3AA8Sx",
        "outputId": "de50de56-4a5b-4cfd-ebf4-90339d1fbd28"
      },
      "source": [
        "stationsDF.show()\n",
        "# stationsDF.printSchema()\n",
        "      \n",
        "tripsDF = tripsDF.withColumn(\"duration\", lit(round(element_at(tripsDF.triptimes, -1).cast(\"int\") - tripsDF.triptimes[0].cast(\"int\"))/60))\n",
        "tripsDF = tripsDF.withColumn(\"duration\", round(tripsDF[\"duration\"],0))\n",
        "tripsDF = tripsDF.withColumn(\"duration\", concat(col(\"duration\"), lit(\" min\")))\n",
        "# tripsDF = tripsDF.withColumn(\"duration_in_h\", lit(element_at(tripsDF.triptimes, -1) - tripsDF.triptimes[0]))\n",
        "tripsDF = tripsDF.withColumn(\"unique_key\", concat_ws(\"\", col(\"internal_bus_stations_ids\")))\n",
        "tripsDF.show(truncate=False)\n",
        "# tripsDF.printSchema()\n",
        "stations = stationsDF.alias(\"stations\")\n",
        "trips = tripsDF.alias(\"trips\")"
      ],
      "execution_count": null,
      "outputs": [
        {
          "output_type": "stream",
          "name": "stdout",
          "text": [
            "+-------+-----------------------+------------------+\n",
            "|row_num|internal_bus_station_id|public_bus_station|\n",
            "+-------+-----------------------+------------------+\n",
            "|      1|                      0|         BAutogara|\n",
            "|      2|                      1|        BVAutogara|\n",
            "|      3|                      2|        SBAutogara|\n",
            "|      4|                      3|        CJAutogara|\n",
            "|      5|                      4|        MMAutogara|\n",
            "|      6|                      5|        ISAutogara|\n",
            "|      7|                      6|        CTAutogara|\n",
            "|      8|                      7|        TMAutogara|\n",
            "|      9|                      8|        BCAutogara|\n",
            "|     10|                      9|        MSAutogara|\n",
            "+-------+-----------------------+------------------+\n",
            "\n",
            "+-------+------+-----------+-------------------------+------------------------------------------------------------------------------------------------------------------------------+---------+----------+\n",
            "|row_num|origin|destination|internal_bus_stations_ids|triptimes                                                                                                                     |duration |unique_key|\n",
            "+-------+------+-----------+-------------------------+------------------------------------------------------------------------------------------------------------------------------+---------+----------+\n",
            "|1      |B     |MM         |[0, 2, 4]                |[2020-03-01 10:10:00, 2020-03-01 12:20:10, 2020-03-01 14:10:10]                                                               |240.0 min|024       |\n",
            "|2      |BV    |IS         |[1, 8, 3, 5]             |[2020-03-01 08:10:00, 2020-03-01 12:20:10, 2020-03-01 15:10:10, 2020-03-01 15:45:10]                                          |455.0 min|1835      |\n",
            "|3      |TM    |CT         |[7, 2, 9, 4, 6]          |[2020-04-01 10:45:00, 2020-04-01 12:20:10, 2020-04-01 19:30:10, 2020-04-01 21:30:10, 2020-04-01 22:00:10]                     |675.0 min|72946     |\n",
            "|4      |CJ    |BC         |[3, 9, 5, 6, 7, 8]       |[2020-05-01 07:10:00, 2020-05-01 12:20:10, 2020-05-01 13:20:10, 2020-05-01 14:20:10, 2020-05-01 15:20:10, 2020-05-01 21:20:10]|850.0 min|395678    |\n",
            "+-------+------+-----------+-------------------------+------------------------------------------------------------------------------------------------------------------------------+---------+----------+\n",
            "\n"
          ]
        }
      ]
    },
    {
      "cell_type": "markdown",
      "metadata": {
        "id": "Ss8iTKkTp8yC"
      },
      "source": [
        "Identify the arrays length and the maximum length from the `internal_bus_station_ids` column for a dynamic number of bus stops, in order to prevent hardcoding the array elements that will be selected."
      ]
    },
    {
      "cell_type": "code",
      "metadata": {
        "colab": {
          "base_uri": "https://localhost:8080/"
        },
        "id": "bVZabqufOc6_",
        "outputId": "c697e5cc-52e3-4204-ebb7-5a2cac479e8d"
      },
      "source": [
        "columns = trips.select(trips.internal_bus_stations_ids, size(\"internal_bus_stations_ids\").alias(\"size\"))\n",
        "columns.show()\n",
        "max = columns.agg({\"size\": \"max\"}).collect()[0]\n",
        "maxArrLength = max[\"max(size)\"]"
      ],
      "execution_count": null,
      "outputs": [
        {
          "output_type": "stream",
          "name": "stdout",
          "text": [
            "+-------------------------+----+\n",
            "|internal_bus_stations_ids|size|\n",
            "+-------------------------+----+\n",
            "|                [0, 2, 4]|   3|\n",
            "|             [1, 8, 3, 5]|   4|\n",
            "|          [7, 2, 9, 4, 6]|   5|\n",
            "|       [3, 9, 5, 6, 7, 8]|   6|\n",
            "+-------------------------+----+\n",
            "\n"
          ]
        }
      ]
    },
    {
      "cell_type": "markdown",
      "metadata": {
        "id": "xeiakN7T0dxu"
      },
      "source": [
        "Create a custom string to be passed to `spark.sql()` for retrieving and splitting all array elements into individual columns, regadless of the bus stations count."
      ]
    },
    {
      "cell_type": "code",
      "metadata": {
        "colab": {
          "base_uri": "https://localhost:8080/"
        },
        "id": "BL5SKp9S0c-I",
        "outputId": "df890546-c8e0-4337-daee-864ccba81e63"
      },
      "source": [
        "queryString = \"\"\n",
        "tempViewName = \"trips\"\n",
        "trips.createTempView(tempViewName)\n",
        "\n",
        "for i in range(maxArrLength):\n",
        "    queryString += f\"{tempViewName}.internal_bus_stations_ids[{str(i)}] as column_{i+1}\"\n",
        "    if i != maxArrLength - 1:\n",
        "        queryString += \", \"\n",
        "\n",
        "print(f\"Dynamic SQL query: \\n <SELECT {queryString} FROM {tempViewName}>\")"
      ],
      "execution_count": null,
      "outputs": [
        {
          "output_type": "stream",
          "name": "stdout",
          "text": [
            "Dynamic SQL query: \n",
            " <SELECT trips.internal_bus_stations_ids[0] as column_1, trips.internal_bus_stations_ids[1] as column_2, trips.internal_bus_stations_ids[2] as column_3, trips.internal_bus_stations_ids[3] as column_4, trips.internal_bus_stations_ids[4] as column_5, trips.internal_bus_stations_ids[5] as column_6 FROM trips>\n"
          ]
        }
      ]
    },
    {
      "cell_type": "markdown",
      "metadata": {
        "id": "e8TL-uNQfUkE"
      },
      "source": [
        "Split the internal_bus_stations_ids arrays into individual columns in a temporary table `tripsNameDF`."
      ]
    },
    {
      "cell_type": "code",
      "metadata": {
        "colab": {
          "base_uri": "https://localhost:8080/"
        },
        "id": "PjhISezL1Gz0",
        "outputId": "04e2942d-b4a1-43b9-8bea-25941fc8b576"
      },
      "source": [
        "tripsNameDF = spark.sql(f\"SELECT {queryString} FROM {tempViewName}\")\n",
        "tripsNameDF.show()"
      ],
      "execution_count": null,
      "outputs": [
        {
          "output_type": "stream",
          "name": "stdout",
          "text": [
            "+--------+--------+--------+--------+--------+--------+\n",
            "|column_1|column_2|column_3|column_4|column_5|column_6|\n",
            "+--------+--------+--------+--------+--------+--------+\n",
            "|       0|       2|       4|    null|    null|    null|\n",
            "|       1|       8|       3|       5|    null|    null|\n",
            "|       7|       2|       9|       4|       6|    null|\n",
            "|       3|       9|       5|       6|       7|       8|\n",
            "+--------+--------+--------+--------+--------+--------+\n",
            "\n"
          ]
        }
      ]
    },
    {
      "cell_type": "markdown",
      "metadata": {
        "id": "vbovNxu02Km1"
      },
      "source": [
        "**No longer in use.** Hardcoded array indexes PySpark SELECT and JOIN queries."
      ]
    },
    {
      "cell_type": "markdown",
      "metadata": {
        "id": "YOf-h_eSgUhD"
      },
      "source": [
        "Use the individual IDs as maching terms for the left joins against the original `stations` data set."
      ]
    },
    {
      "cell_type": "code",
      "metadata": {
        "colab": {
          "base_uri": "https://localhost:8080/"
        },
        "id": "_3sAJk023c-_",
        "outputId": "f62568f2-dab9-48c8-d6eb-39c436563e29"
      },
      "source": [
        "columnNames = tripsNameDF.schema.names\n",
        "joinedName = \"\"\n",
        "\n",
        "for name in columnNames:\n",
        "    joinedName = name + \"_public\"\n",
        "    tripsNameDF = tripsNameDF.join(stations, tripsNameDF[name] == stations.internal_bus_station_id, how=\"left\") \\\n",
        "            .select(tripsNameDF[\"*\"], stations[\"public_bus_station\"].alias(joinedName))\n",
        "\n",
        "tripsNameDF = tripsNameDF.na.fill(\"\")\n",
        "tripsNameDF.show()"
      ],
      "execution_count": null,
      "outputs": [
        {
          "output_type": "stream",
          "name": "stdout",
          "text": [
            "+--------+--------+--------+--------+--------+--------+---------------+---------------+---------------+---------------+---------------+---------------+\n",
            "|column_1|column_2|column_3|column_4|column_5|column_6|column_1_public|column_2_public|column_3_public|column_4_public|column_5_public|column_6_public|\n",
            "+--------+--------+--------+--------+--------+--------+---------------+---------------+---------------+---------------+---------------+---------------+\n",
            "|       0|       2|       4|    null|    null|    null|      BAutogara|     SBAutogara|     MMAutogara|               |               |               |\n",
            "|       1|       8|       3|       5|    null|    null|     BVAutogara|     BCAutogara|     CJAutogara|     ISAutogara|               |               |\n",
            "|       7|       2|       9|       4|       6|    null|     TMAutogara|     SBAutogara|     MSAutogara|     MMAutogara|     CTAutogara|               |\n",
            "|       3|       9|       5|       6|       7|       8|     CJAutogara|     MSAutogara|     ISAutogara|     CTAutogara|     TMAutogara|     BCAutogara|\n",
            "+--------+--------+--------+--------+--------+--------+---------------+---------------+---------------+---------------+---------------+---------------+\n",
            "\n"
          ]
        }
      ]
    },
    {
      "cell_type": "markdown",
      "metadata": {
        "id": "KBdhsM4khDoy"
      },
      "source": [
        "Add the matching values in an array, saved in a new column called \"public_bus_stops\""
      ]
    },
    {
      "cell_type": "code",
      "metadata": {
        "colab": {
          "base_uri": "https://localhost:8080/"
        },
        "id": "pPPXyRQd9Qip",
        "outputId": "53ee75a6-8517-41c2-9c90-72dfa275ea3f"
      },
      "source": [
        "columnNames = tripsNameDF.schema.names\n",
        "internal = []\n",
        "public = []\n",
        "\n",
        "for name in columnNames:\n",
        "    if name.find(\"public\") != -1:\n",
        "        public.append(name)\n",
        "    else:\n",
        "        internal.append(name)\n",
        "\n",
        "tripsNameDF = tripsNameDF.select(array(internal).alias(\"internal_bus_stations\"), \\\n",
        "                                array_except(array(public), array(lit(\"\"))).alias(\"public_bus_stops\"))\n",
        "\n",
        "tripsNameDF = tripsNameDF.withColumn(\"unique_key_public_stops\", concat_ws(\"\", col(\"internal_bus_stations\")))\n",
        "\n",
        "tripsNameDF.show(truncate=False)"
      ],
      "execution_count": null,
      "outputs": [
        {
          "output_type": "stream",
          "name": "stdout",
          "text": [
            "+---------------------------+------------------------------------------------------------------------+-----------------------+\n",
            "|internal_bus_stations      |public_bus_stops                                                        |unique_key_public_stops|\n",
            "+---------------------------+------------------------------------------------------------------------+-----------------------+\n",
            "|[0, 2, 4, null, null, null]|[BAutogara, SBAutogara, MMAutogara]                                     |024                    |\n",
            "|[1, 8, 3, 5, null, null]   |[BVAutogara, BCAutogara, CJAutogara, ISAutogara]                        |1835                   |\n",
            "|[7, 2, 9, 4, 6, null]      |[TMAutogara, SBAutogara, MSAutogara, MMAutogara, CTAutogara]            |72946                  |\n",
            "|[3, 9, 5, 6, 7, 8]         |[CJAutogara, MSAutogara, ISAutogara, CTAutogara, TMAutogara, BCAutogara]|395678                 |\n",
            "+---------------------------+------------------------------------------------------------------------+-----------------------+\n",
            "\n"
          ]
        }
      ]
    },
    {
      "cell_type": "code",
      "metadata": {
        "colab": {
          "base_uri": "https://localhost:8080/"
        },
        "id": "Nkh36_VMZ0zI",
        "outputId": "32716f0e-1b1e-4634-8b54-22762132f065"
      },
      "source": [
        "columns = trips.select(trips.internal_bus_stations_ids.alias(\"internal_bus_stations\"), trips.triptimes, size(\"triptimes\").alias(\"size\"))\n",
        "columns.show(truncate=False)\n",
        "max = columns.agg({\"size\": \"max\"}).collect()[0]\n",
        "maxArrLength = max[\"max(size)\"]"
      ],
      "execution_count": null,
      "outputs": [
        {
          "output_type": "stream",
          "name": "stdout",
          "text": [
            "+---------------------+------------------------------------------------------------------------------------------------------------------------------+----+\n",
            "|internal_bus_stations|triptimes                                                                                                                     |size|\n",
            "+---------------------+------------------------------------------------------------------------------------------------------------------------------+----+\n",
            "|[0, 2, 4]            |[2020-03-01 10:10:00, 2020-03-01 12:20:10, 2020-03-01 14:10:10]                                                               |3   |\n",
            "|[1, 8, 3, 5]         |[2020-03-01 08:10:00, 2020-03-01 12:20:10, 2020-03-01 15:10:10, 2020-03-01 15:45:10]                                          |4   |\n",
            "|[7, 2, 9, 4, 6]      |[2020-04-01 10:45:00, 2020-04-01 12:20:10, 2020-04-01 19:30:10, 2020-04-01 21:30:10, 2020-04-01 22:00:10]                     |5   |\n",
            "|[3, 9, 5, 6, 7, 8]   |[2020-05-01 07:10:00, 2020-05-01 12:20:10, 2020-05-01 13:20:10, 2020-05-01 14:20:10, 2020-05-01 15:20:10, 2020-05-01 21:20:10]|6   |\n",
            "+---------------------+------------------------------------------------------------------------------------------------------------------------------+----+\n",
            "\n"
          ]
        }
      ]
    },
    {
      "cell_type": "code",
      "metadata": {
        "colab": {
          "base_uri": "https://localhost:8080/"
        },
        "id": "IXBcRxONaDVO",
        "outputId": "1b56cac3-16c1-46e8-8360-5bb561713b54"
      },
      "source": [
        "tempViewName = \"triptimes\"\n",
        "queryString = tempViewName + \".internal_bus_stations_ids as internal_bus_stations, \"\n",
        "trips.createTempView(tempViewName)\n",
        "\n",
        "for i in range(maxArrLength):\n",
        "    queryString += f\"{tempViewName}.triptimes[{str(i)}] as column_{i+1}\"\n",
        "    if i != maxArrLength - 1:\n",
        "        queryString += \", \"\n",
        "\n",
        "print(f\"Dynamic SQL query: \\n <SELECT {queryString} FROM {tempViewName}>\")"
      ],
      "execution_count": null,
      "outputs": [
        {
          "output_type": "stream",
          "name": "stdout",
          "text": [
            "Dynamic SQL query: \n",
            " <SELECT triptimes.internal_bus_stations_ids as internal_bus_stations, triptimes.triptimes[0] as column_1, triptimes.triptimes[1] as column_2, triptimes.triptimes[2] as column_3, triptimes.triptimes[3] as column_4, triptimes.triptimes[4] as column_5, triptimes.triptimes[5] as column_6 FROM triptimes>\n"
          ]
        }
      ]
    },
    {
      "cell_type": "code",
      "metadata": {
        "colab": {
          "base_uri": "https://localhost:8080/"
        },
        "id": "XGPyRL5ubVri",
        "outputId": "5d008972-7260-4cb8-d4b8-1b60f3be07fd"
      },
      "source": [
        "tripsDurationDF = spark.sql(f\"SELECT {queryString} FROM {tempViewName}\")\n",
        "tripsDurationDF.show()"
      ],
      "execution_count": null,
      "outputs": [
        {
          "output_type": "stream",
          "name": "stdout",
          "text": [
            "+---------------------+-------------------+-------------------+-------------------+-------------------+-------------------+-------------------+\n",
            "|internal_bus_stations|           column_1|           column_2|           column_3|           column_4|           column_5|           column_6|\n",
            "+---------------------+-------------------+-------------------+-------------------+-------------------+-------------------+-------------------+\n",
            "|            [0, 2, 4]|2020-03-01 10:10:00|2020-03-01 12:20:10|2020-03-01 14:10:10|               null|               null|               null|\n",
            "|         [1, 8, 3, 5]|2020-03-01 08:10:00|2020-03-01 12:20:10|2020-03-01 15:10:10|2020-03-01 15:45:10|               null|               null|\n",
            "|      [7, 2, 9, 4, 6]|2020-04-01 10:45:00|2020-04-01 12:20:10|2020-04-01 19:30:10|2020-04-01 21:30:10|2020-04-01 22:00:10|               null|\n",
            "|   [3, 9, 5, 6, 7, 8]|2020-05-01 07:10:00|2020-05-01 12:20:10|2020-05-01 13:20:10|2020-05-01 14:20:10|2020-05-01 15:20:10|2020-05-01 21:20:10|\n",
            "+---------------------+-------------------+-------------------+-------------------+-------------------+-------------------+-------------------+\n",
            "\n"
          ]
        }
      ]
    },
    {
      "cell_type": "code",
      "metadata": {
        "colab": {
          "base_uri": "https://localhost:8080/"
        },
        "id": "VUgbsa4XcoHU",
        "outputId": "e0b074ab-f10b-4227-9f16-3404b60f7f12"
      },
      "source": [
        "columnNames = tripsDurationDF.schema.names\n",
        "maxIndex = len(columnNames)-1\n",
        "\n",
        "tripsDurationDF = tripsDurationDF.withColumn(\"duration\", \\\n",
        "                                             col(columnNames[len(columnNames)-1]).cast(\"int\") - \\\n",
        "                                             col(columnNames[1]).cast(\"int\"))\n",
        "tripsDurationDF.show()\n",
        "\n",
        "for i in range(maxIndex, 0, -1):\n",
        "    tripsDurationDF = tripsDurationDF.withColumn(\"duration\", \\\n",
        "                                            when(tripsDurationDF[\"duration\"].isNull(), \\\n",
        "                                            col(columnNames[i]).cast(\"int\") - col(columnNames[1]).cast(\"int\")) \\\n",
        "                                            .otherwise(tripsDurationDF[\"duration\"]))\n",
        "\n",
        "tripsDurationDF = tripsDurationDF.withColumn(\"duration\", round(tripsDurationDF[\"duration\"])/60)\n",
        "tripsDurationDF = tripsDurationDF.withColumn(\"duration\", round(tripsDurationDF[\"duration\"],2))\n",
        "tripsDurationDF = tripsDurationDF.withColumn(\"duration\", concat(col(\"duration\"), lit(\" min\")))\n",
        "tripsDurationDF.show(truncate=False)"
      ],
      "execution_count": null,
      "outputs": [
        {
          "output_type": "stream",
          "name": "stdout",
          "text": [
            "+---------------------+-------------------+-------------------+-------------------+-------------------+-------------------+-------------------+--------+\n",
            "|internal_bus_stations|           column_1|           column_2|           column_3|           column_4|           column_5|           column_6|duration|\n",
            "+---------------------+-------------------+-------------------+-------------------+-------------------+-------------------+-------------------+--------+\n",
            "|            [0, 2, 4]|2020-03-01 10:10:00|2020-03-01 12:20:10|2020-03-01 14:10:10|               null|               null|               null|    null|\n",
            "|         [1, 8, 3, 5]|2020-03-01 08:10:00|2020-03-01 12:20:10|2020-03-01 15:10:10|2020-03-01 15:45:10|               null|               null|    null|\n",
            "|      [7, 2, 9, 4, 6]|2020-04-01 10:45:00|2020-04-01 12:20:10|2020-04-01 19:30:10|2020-04-01 21:30:10|2020-04-01 22:00:10|               null|    null|\n",
            "|   [3, 9, 5, 6, 7, 8]|2020-05-01 07:10:00|2020-05-01 12:20:10|2020-05-01 13:20:10|2020-05-01 14:20:10|2020-05-01 15:20:10|2020-05-01 21:20:10|   51010|\n",
            "+---------------------+-------------------+-------------------+-------------------+-------------------+-------------------+-------------------+--------+\n",
            "\n",
            "+---------------------+-------------------+-------------------+-------------------+-------------------+-------------------+-------------------+----------+\n",
            "|internal_bus_stations|column_1           |column_2           |column_3           |column_4           |column_5           |column_6           |duration  |\n",
            "+---------------------+-------------------+-------------------+-------------------+-------------------+-------------------+-------------------+----------+\n",
            "|[0, 2, 4]            |2020-03-01 10:10:00|2020-03-01 12:20:10|2020-03-01 14:10:10|null               |null               |null               |240.17 min|\n",
            "|[1, 8, 3, 5]         |2020-03-01 08:10:00|2020-03-01 12:20:10|2020-03-01 15:10:10|2020-03-01 15:45:10|null               |null               |455.17 min|\n",
            "|[7, 2, 9, 4, 6]      |2020-04-01 10:45:00|2020-04-01 12:20:10|2020-04-01 19:30:10|2020-04-01 21:30:10|2020-04-01 22:00:10|null               |675.17 min|\n",
            "|[3, 9, 5, 6, 7, 8]   |2020-05-01 07:10:00|2020-05-01 12:20:10|2020-05-01 13:20:10|2020-05-01 14:20:10|2020-05-01 15:20:10|2020-05-01 21:20:10|850.17 min|\n",
            "+---------------------+-------------------+-------------------+-------------------+-------------------+-------------------+-------------------+----------+\n",
            "\n"
          ]
        }
      ]
    },
    {
      "cell_type": "code",
      "metadata": {
        "colab": {
          "base_uri": "https://localhost:8080/"
        },
        "id": "z-iA5uLeuwE7",
        "outputId": "98e62f93-34ee-4a84-e2a5-5a0ae7b09849"
      },
      "source": [
        "columnNames = tripsDurationDF.schema.names\n",
        "timestamps = []\n",
        "\n",
        "for i in range(1, len(columnNames)-1):\n",
        "        timestamps.append(columnNames[i])\n",
        "\n",
        "tripsDurationDF = tripsDurationDF.select(tripsDurationDF.internal_bus_stations, \\\n",
        "                                array(timestamps).alias(\"triptimes\"), tripsDurationDF.duration)\n",
        "\n",
        "tripsDurationDF.show(truncate=False)"
      ],
      "execution_count": null,
      "outputs": [
        {
          "output_type": "stream",
          "name": "stdout",
          "text": [
            "+---------------------+------------------------------------------------------------------------------------------------------------------------------+----------+\n",
            "|internal_bus_stations|triptimes                                                                                                                     |duration  |\n",
            "+---------------------+------------------------------------------------------------------------------------------------------------------------------+----------+\n",
            "|[0, 2, 4]            |[2020-03-01 10:10:00, 2020-03-01 12:20:10, 2020-03-01 14:10:10, null, null, null]                                             |240.17 min|\n",
            "|[1, 8, 3, 5]         |[2020-03-01 08:10:00, 2020-03-01 12:20:10, 2020-03-01 15:10:10, 2020-03-01 15:45:10, null, null]                              |455.17 min|\n",
            "|[7, 2, 9, 4, 6]      |[2020-04-01 10:45:00, 2020-04-01 12:20:10, 2020-04-01 19:30:10, 2020-04-01 21:30:10, 2020-04-01 22:00:10, null]               |675.17 min|\n",
            "|[3, 9, 5, 6, 7, 8]   |[2020-05-01 07:10:00, 2020-05-01 12:20:10, 2020-05-01 13:20:10, 2020-05-01 14:20:10, 2020-05-01 15:20:10, 2020-05-01 21:20:10]|850.17 min|\n",
            "+---------------------+------------------------------------------------------------------------------------------------------------------------------+----------+\n",
            "\n"
          ]
        }
      ]
    },
    {
      "cell_type": "code",
      "metadata": {
        "colab": {
          "base_uri": "https://localhost:8080/"
        },
        "id": "azt8QxcGeXc5",
        "outputId": "fdb05b00-7044-4e16-b089-bfcb0914916d"
      },
      "source": [
        "trips = trips.join(tripsDurationDF, trips.internal_bus_stations_ids == tripsDurationDF.internal_bus_stations) \\\n",
        "        .select(trips[\"row_num\"], trips[\"unique_key\"], trips[\"internal_bus_stations_ids\"], trips[\"origin\"], trips[\"destination\"], tripsDurationDF[\"duration\"])\n",
        "trips.orderBy([\"row_num\"]).show(truncate=False)"
      ],
      "execution_count": null,
      "outputs": [
        {
          "output_type": "stream",
          "name": "stdout",
          "text": [
            "+-------+----------+-------------------------+------+-----------+----------+\n",
            "|row_num|unique_key|internal_bus_stations_ids|origin|destination|duration  |\n",
            "+-------+----------+-------------------------+------+-----------+----------+\n",
            "|1      |024       |[0, 2, 4]                |B     |MM         |240.17 min|\n",
            "|2      |1835      |[1, 8, 3, 5]             |BV    |IS         |455.17 min|\n",
            "|3      |72946     |[7, 2, 9, 4, 6]          |TM    |CT         |675.17 min|\n",
            "|4      |395678    |[3, 9, 5, 6, 7, 8]       |CJ    |BC         |850.17 min|\n",
            "+-------+----------+-------------------------+------+-----------+----------+\n",
            "\n"
          ]
        }
      ]
    },
    {
      "cell_type": "code",
      "metadata": {
        "colab": {
          "base_uri": "https://localhost:8080/"
        },
        "id": "pY-SMYNrSmF_",
        "outputId": "ee74f773-41d0-4273-c30a-29fbb659106c"
      },
      "source": [
        "trips = trips.join(tripsNameDF, trips.unique_key == tripsNameDF.unique_key_public_stops) \\\n",
        "        .select(trips[\"row_num\"], trips[\"origin\"], trips[\"destination\"], tripsNameDF[\"public_bus_stops\"], trips[\"duration\"])\n",
        "trips.orderBy([\"row_num\"]).show(truncate=False)"
      ],
      "execution_count": null,
      "outputs": [
        { 
          "output_type": "stream",
          "name": "stdout",
          "text": [
            "+-------+------+-----------+------------------------------------------------------------------------+----------+\n",
            "|row_num|origin|destination|public_bus_stops                                                        |duration  |\n",
            "+-------+------+-----------+------------------------------------------------------------------------+----------+\n",
            "|1      |B     |MM         |[BAutogara, SBAutogara, MMAutogara]                                     |240.17 min|\n",
            "|2      |BV    |IS         |[BVAutogara, BCAutogara, CJAutogara, ISAutogara]                        |455.17 min|\n",
            "|3      |TM    |CT         |[TMAutogara, SBAutogara, MSAutogara, MMAutogara, CTAutogara]            |675.17 min|\n",
            "|4      |CJ    |BC         |[CJAutogara, MSAutogara, ISAutogara, CTAutogara, TMAutogara, BCAutogara]|850.17 min|\n",
            "+-------+------+-----------+------------------------------------------------------------------------+----------+\n",
            "\n"
          ]
        }
      ]
    }
  ]
}
